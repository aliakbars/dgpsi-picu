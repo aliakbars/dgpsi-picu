{
 "cells": [
  {
   "cell_type": "code",
   "execution_count": 1,
   "metadata": {},
   "outputs": [],
   "source": [
    "import matplotlib.pyplot as plt\n",
    "import numpy as np\n",
    "import pandas as pd\n",
    "import seaborn as sns"
   ]
  },
  {
   "cell_type": "code",
   "execution_count": 2,
   "metadata": {},
   "outputs": [],
   "source": [
    "from glob import glob"
   ]
  },
  {
   "cell_type": "code",
   "execution_count": 3,
   "metadata": {},
   "outputs": [],
   "source": [
    "df = pd.DataFrame()\n",
    "for f in glob('datasets/*.csv'):\n",
    "    df = pd.concat([\n",
    "        df,\n",
    "        pd.read_csv(f)\n",
    "    ], ignore_index=True)\n",
    "df['pseudchartTime'] = pd.to_datetime(df['pseudchartTime'], format=\"%d/%m/%Y %H:%M\")"
   ]
  },
  {
   "cell_type": "code",
   "execution_count": 4,
   "metadata": {},
   "outputs": [],
   "source": [
    "columns = [\n",
    "    \"pO2 kPa (ABL)\",\n",
    "    \"pCO2 kPA (ABL)\",\n",
    "    \"Na+ mmol/L (ABL)\",\n",
    "    \"Ca++ mmol/L (ABL)\",\n",
    "    \"Cl- mmol/L (ABL)\",\n",
    "    \"Lactate mmol/L (ABL)\",\n",
    "    \"Albumin\",\n",
    "    \"Urea\",\n",
    "    \"Phosphate\",\n",
    "    \"pH (ABL)\",\n",
    "]\n",
    "sample = df.query('longLabel in @columns')\n",
    "sample = sample.pivot_table(\n",
    "    index=['alias', 'pseudchartTime'],\n",
    "    columns='longLabel',\n",
    "    values='valueNumber'\n",
    ").reset_index()\n",
    "sample[\"alias\"] = sample[\"alias\"].str.split(\"-\").str[1].apply(lambda x: f\"G-{int(x):02}\")"
   ]
  },
  {
   "cell_type": "code",
   "execution_count": 5,
   "metadata": {},
   "outputs": [],
   "source": [
    "data = sample.copy()\n",
    "data = data.rename(\n",
    "    {\n",
    "        'pCO2 kPA (ABL)': 'pco2',\n",
    "        'pO2 kPa (ABL)': 'po2',\n",
    "        'Na+ mmol/L (ABL)': 'na',\n",
    "        'Cl- mmol/L (ABL)': 'cl',\n",
    "        'Ca++ mmol/L (ABL)': 'ca',\n",
    "        'Albumin': 'albumin',\n",
    "        'Lactate mmol/L (ABL)': 'lactate',\n",
    "        'Urea': 'urea',\n",
    "        'Phosphate': 'phosphate',\n",
    "        'pH (ABL)': 'ph',\n",
    "    },\n",
    "    axis=1\n",
    ")\n",
    "\n",
    "data = data.sort_values(['alias', 'pseudchartTime'])\n",
    "data['sid'] = data['na'] + data['ca'] - data['cl']\n",
    "data_gap = data.copy()\n",
    "\n",
    "# ffill albumin\n",
    "for col in ['albumin', 'phosphate', 'urea']:\n",
    "    data[col] = data.groupby('alias')[col].ffill()\n",
    "    data[col] = data.groupby('alias')[col].bfill()\n",
    "\n",
    "# data = data.dropna()"
   ]
  },
  {
   "cell_type": "markdown",
   "metadata": {},
   "source": [
    "# Interpolation"
   ]
  },
  {
   "cell_type": "code",
   "execution_count": 6,
   "metadata": {},
   "outputs": [],
   "source": [
    "from interpolations import *\n",
    "\n",
    "agg_patient = data_gap.groupby(['alias', pd.Grouper(key='pseudchartTime', freq='1h')]).mean(numeric_only=True).reset_index().copy()\n",
    "agg_patient['unix_timestamp'] = agg_patient['pseudchartTime'].astype(int) / 1e9 / 3600\n",
    "\n",
    "def get_patient(agg_patient, alias, admission=None):\n",
    "    patient = agg_patient.query('alias == @alias')\n",
    "    if admission is not None:\n",
    "        patient = patient.query('admission == @admission')\n",
    "    patient = patient.set_index('pseudchartTime').resample('1h').mean(numeric_only=True).reset_index().copy()\n",
    "    patient['unix_timestamp'] = patient['pseudchartTime'].astype(int) / 1e9 / 3600\n",
    "    return patient"
   ]
  },
  {
   "cell_type": "code",
   "execution_count": 7,
   "metadata": {},
   "outputs": [],
   "source": [
    "from sklearn.cluster import DBSCAN\n",
    "\n",
    "mdl = DBSCAN(eps=24*7)\n",
    "agg_patient['admission'] = mdl.fit_predict(agg_patient[['unix_timestamp']])\n",
    "agg_patient['window'] = agg_patient.apply(lambda x: f\"{x.alias} + {x.admission}\", axis=1)"
   ]
  },
  {
   "cell_type": "code",
   "execution_count": 8,
   "metadata": {},
   "outputs": [
    {
     "data": {
      "text/plain": [
       "alias  admission\n",
       "G-01    0            55\n",
       "G-02    1            41\n",
       "G-03   -1             7\n",
       "        2            43\n",
       "G-04    3            17\n",
       "G-05    3            67\n",
       "G-06    4            56\n",
       "G-07    5            54\n",
       "G-08    6             9\n",
       "G-09    7            23\n",
       "G-10    8           124\n",
       "        9            84\n",
       "G-11    10           13\n",
       "G-12   -1             4\n",
       "        11           49\n",
       "        12           30\n",
       "        13           23\n",
       "G-13    14           74\n",
       "G-14    15           69\n",
       "dtype: int64"
      ]
     },
     "execution_count": 8,
     "metadata": {},
     "output_type": "execute_result"
    }
   ],
   "source": [
    "agg_patient.groupby(['alias', 'admission']).size()"
   ]
  },
  {
   "cell_type": "code",
   "execution_count": 9,
   "metadata": {},
   "outputs": [
    {
     "data": {
      "image/png": "[encoded data removed]",
      "text/plain": [
       "<Figure size 640x480 with 1 Axes>"
      ]
     },
     "metadata": {},
     "output_type": "display_data"
    }
   ],
   "source": [
    "sns.pointplot(\n",
    "    x='pco2',\n",
    "    y='alias',\n",
    "    errorbar='sd',\n",
    "    linestyle='none',\n",
    "    data=agg_patient,\n",
    ")\n",
    "sns.despine()"
   ]
  },
  {
   "cell_type": "markdown",
   "metadata": {},
   "source": [
    "# DGPSI"
   ]
  },
  {
   "cell_type": "code",
   "execution_count": 28,
   "metadata": {},
   "outputs": [],
   "source": [
    "from sklearn.preprocessing import StandardScaler\n",
    "\n",
    "window = \"G-10 + 8\"\n",
    "features = [\n",
    "    \"pco2\",\n",
    "    \"sid\",\n",
    "    \"lactate\",\n",
    "]\n",
    "\n",
    "alias, admission = window.split(\" + \")\n",
    "admission = int(admission)\n",
    "\n",
    "patient_per_hour = get_patient(agg_patient, alias, admission)\n",
    "patient_df = patient_per_hour.dropna(subset=\"ph\").copy()\n",
    "# patient_df['all_na'] = np.nan\n",
    "\n",
    "y_scaler = StandardScaler()\n",
    "Y = y_scaler.fit_transform(patient_df[[\"ph\"]].values)\n",
    "\n",
    "X = patient_df[[\"unix_timestamp\"]].values\n",
    "X = (X - X.min()) / (X.max() - X.min())\n",
    "\n",
    "scaler = StandardScaler()\n",
    "H = scaler.fit_transform(patient_df[features].values)"
   ]
  },
  {
   "cell_type": "code",
   "execution_count": 29,
   "metadata": {},
   "outputs": [],
   "source": [
    "import dgpsi as dgp\n",
    "\n",
    "class DGP:\n",
    "    def __init__(self, features, n_iter=300):\n",
    "        self.features = features\n",
    "        self.n_iter = n_iter\n",
    "\n",
    "    def fit(self, X, H, Y):\n",
    "        layer1 = [\n",
    "            dgp.kernel(\n",
    "                length=np.array([.1]),\n",
    "                name='sexp',\n",
    "                scale_est=False,\n",
    "                nugget_est=False,\n",
    "                nugget=1e-3,\n",
    "            )\n",
    "            for _ in range(len(self.features))\n",
    "        ]\n",
    "        layer2 = [\n",
    "            dgp.kernel(\n",
    "                length=np.array([.1]),\n",
    "                name='sexp',\n",
    "                scale_est=False,\n",
    "                nugget_est=False,\n",
    "                nugget=1e-3,\n",
    "                connect=np.arange(1),\n",
    "            )\n",
    "        ]\n",
    "        all_layers = dgp.combine(layer1, layer2)\n",
    "\n",
    "        # Using observed latent variables\n",
    "        self.m = dgp.dgp(X, [H, Y], all_layers)\n",
    "        self.m.train(N=self.n_iter, disable=True)\n",
    "\n",
    "        return self\n",
    "\n",
    "    def predict(self, X, full_layer=False):\n",
    "        final_layer_obj = self.m.estimate()\n",
    "        emu = dgp.emulator(final_layer_obj)\n",
    "        mu, var = emu.predict(X, method='mean_var', full_layer=full_layer)\n",
    "        return mu, var\n",
    "\n",
    "class GP:\n",
    "    def __init__(self):\n",
    "        pass\n",
    "    \n",
    "    def fit(self, X, Y):\n",
    "        self.model = dgp.gp(\n",
    "            X, Y,\n",
    "            dgp.kernel(\n",
    "                length=np.array([1.]),\n",
    "                name='sexp',\n",
    "                scale_est=False,\n",
    "                nugget_est=False,\n",
    "                nugget=1e-3,\n",
    "            )\n",
    "        )\n",
    "        self.model.train()\n",
    "    \n",
    "    def predict(self, X):\n",
    "        mu, var = self.model.predict(X)\n",
    "        return mu, var"
   ]
  },
  {
   "cell_type": "code",
   "execution_count": 31,
   "metadata": {},
   "outputs": [],
   "source": [
    "# model = DGP(features=features, n_iter=100)\n",
    "# model.fit(X, H, Y)\n",
    "\n",
    "# z = np.linspace(0, 1, 300)[:, None].reshape(-1, 1)\n",
    "# ml, vl = model.predict(z, full_layer=True)\n",
    "# lbl = (ml[1] - 2 * np.sqrt(vl[1])).flatten()\n",
    "# ubl = (ml[1] + 2 * np.sqrt(vl[1])).flatten()\n",
    "\n",
    "# fig, ax = plt.subplots(figsize=(15, 5))\n",
    "# plt.plot(z.flatten(), ml[1].flatten())\n",
    "# plt.fill_between(z.flatten(), lbl, ubl, alpha=0.3)\n",
    "# plt.scatter(X, Y)\n",
    "# plt.axhline(y_scaler.transform([[7.4]]), linestyle=\"--\", linewidth=0.8, c=\"k\")\n",
    "# plt.ylim(-4, 4);"
   ]
  },
  {
   "cell_type": "code",
   "execution_count": 19,
   "metadata": {},
   "outputs": [],
   "source": [
    "def ampute(df, label_columns, p_missing):\n",
    "    X = df.copy()\n",
    "    n_missing_samples = int(p_missing * X.shape[0])\n",
    "    for label_column in label_columns:\n",
    "        indices = np.random.choice(X.index, n_missing_samples, replace=False)\n",
    "        X.loc[indices, label_column] = np.nan\n",
    "    return X"
   ]
  },
  {
   "cell_type": "code",
   "execution_count": 20,
   "metadata": {},
   "outputs": [
    {
     "data": {
      "text/plain": [
       "window\n",
       "G-01 + 0      53\n",
       "G-02 + 1      39\n",
       "G-03 + 2      36\n",
       "G-05 + 3      59\n",
       "G-06 + 4      51\n",
       "G-07 + 5      53\n",
       "G-09 + 7      20\n",
       "G-10 + 8     115\n",
       "G-10 + 9      78\n",
       "G-12 + 11     40\n",
       "G-12 + 12     28\n",
       "G-12 + 13     19\n",
       "G-13 + 14     65\n",
       "G-14 + 15     64\n",
       "dtype: int64"
      ]
     },
     "execution_count": 20,
     "metadata": {},
     "output_type": "execute_result"
    }
   ],
   "source": [
    "windows = agg_patient.dropna(subset=\"ph\").groupby('window').size()\n",
    "windows[windows.ge(windows.quantile(.25))]"
   ]
  },
  {
   "cell_type": "code",
   "execution_count": 21,
   "metadata": {},
   "outputs": [],
   "source": [
    "# np.random.seed(10)\n",
    "\n",
    "# features = [\"pco2\", \"sid\", \"lactate\"]\n",
    "# maes = []\n",
    "# windows = agg_patient.dropna(subset=\"ph\").groupby(\"window\").size()\n",
    "# windows = windows[windows.gt(windows.quantile(0.25))].index\n",
    "\n",
    "# for p_missing in np.arange(0.1, 0.5, 0.1):\n",
    "#     for window in windows:\n",
    "#         alias, admission = window.split(\" + \")\n",
    "#         admission = int(admission)\n",
    "\n",
    "#         patient_per_hour = get_patient(agg_patient, alias, admission)\n",
    "#         patient_df = patient_per_hour.dropna(subset=\"ph\").copy()\n",
    "\n",
    "#         for i in range(10):\n",
    "#             amputed_df = ampute(\n",
    "#                 patient_df[[\"unix_timestamp\"] + features + [\"ph\"]],\n",
    "#                 features,\n",
    "#                 p_missing=p_missing,\n",
    "#             )\n",
    "#             amputed_df.to_csv(f\"experiments/features/{p_missing:.1f}_{window}_{i}_masked.csv\", index=False)\n",
    "#         patient_df.to_csv(f\"experiments/features/{p_missing:.1f}_{window}_0_filled.csv\", index=False)"
   ]
  },
  {
   "cell_type": "code",
   "execution_count": 23,
   "metadata": {},
   "outputs": [
    {
     "name": "stderr",
     "output_type": "stream",
     "text": [
      " 50%|█████     | 2/4 [18:57<17:15, 517.51s/it]/Users/ali.septiandri/miniforge3/envs/phd/lib/python3.9/site-packages/dgpsi/kernel_class.py:137: RuntimeWarning: overflow encountered in exp\n",
      "  theta=np.exp(log_theta)\n",
      "/Users/ali.septiandri/miniforge3/envs/phd/lib/python3.9/site-packages/dgpsi/kernel_class.py:101: RuntimeWarning: invalid value encountered in subtract\n",
      "  self.g=lambda x: (self.prior_coef[0]-1)*np.log(x)-self.prior_coef[1]*x\n"
     ]
    },
    {
     "name": "stdout",
     "output_type": "stream",
     "text": [
      "Failed in 0.3_G-01 + 0_2\n"
     ]
    },
    {
     "name": "stderr",
     "output_type": "stream",
     "text": [
      "100%|██████████| 4/4 [24:15<00:00, 363.96s/it]\n"
     ]
    }
   ],
   "source": [
    "from sklearn.metrics import mean_absolute_error\n",
    "from sklearn.preprocessing import MinMaxScaler\n",
    "from tqdm import tqdm\n",
    "\n",
    "np.random.seed(10)\n",
    "\n",
    "features = [\"pco2\", \"sid\", \"lactate\"]\n",
    "maes = []\n",
    "windows = agg_patient.dropna(subset=\"ph\").groupby(\"window\").size()\n",
    "windows = windows[windows.gt(windows.quantile(0.25))].index\n",
    "\n",
    "for p_missing in tqdm(np.arange(0.1, 0.5, 0.1)):\n",
    "    for window in windows:\n",
    "        patient_df = pd.read_csv(f\"experiments/ph/{p_missing:.1f}_{window}_0_filled_ph.csv\")\n",
    "\n",
    "        for i in range(10):\n",
    "            amputed_df = pd.read_csv(f\"experiments/ph/{p_missing:.1f}_{window}_{i}_masked_ph.csv\")\n",
    "\n",
    "            patient_df[\"ph_nan\"] = amputed_df[\"ph\"]\n",
    "            amputed_df = amputed_df.dropna(subset=\"ph\")\n",
    "\n",
    "            y_scaler = StandardScaler()\n",
    "            Y = y_scaler.fit_transform(amputed_df[[\"ph\"]].values)\n",
    "\n",
    "            minmaxscaler = MinMaxScaler()\n",
    "            X = minmaxscaler.fit_transform(amputed_df[[\"unix_timestamp\"]].values)\n",
    "\n",
    "            X_pred = minmaxscaler.transform(patient_df[[\"unix_timestamp\"]].values)\n",
    "\n",
    "            scaler = StandardScaler()\n",
    "            H = scaler.fit_transform(amputed_df[features].values)\n",
    "\n",
    "            try:\n",
    "                # DGP\n",
    "                model = DGP(features, n_iter=100)\n",
    "                model.fit(X, H, Y)\n",
    "                mu, var = model.predict(X_pred, full_layer=True)\n",
    "                lb = y_scaler.inverse_transform((mu[1] - 2 * np.sqrt(var[1]))).flatten()\n",
    "                ub = y_scaler.inverse_transform((mu[1] + 2 * np.sqrt(var[1]))).flatten()\n",
    "\n",
    "                patient_df[\"ph_dgp\"] = y_scaler.inverse_transform(mu[1]).flatten()\n",
    "                patient_df[\"ph_lb\"] = lb\n",
    "                patient_df[\"ph_ub\"] = ub\n",
    "\n",
    "                # MICE\n",
    "                # imputer = Imputers().get(\"mice\")\n",
    "                # patient_df[\"ph_mice\"] = imputer.fit_transform(\n",
    "                #     patient_df[features + [\"ph_nan\"]]\n",
    "                # ).values[:, -1]\n",
    "                patient_df[\"ph_ffill\"] = patient_df[\"ph_nan\"].ffill().bfill()\n",
    "\n",
    "                # GP by DGP-SI\n",
    "                model = GP()\n",
    "                model.fit(X, Y)\n",
    "                mu, var = model.predict(X_pred)\n",
    "                patient_df[\"ph_gp\"] = y_scaler.inverse_transform(mu.reshape(-1, 1))\n",
    "\n",
    "                # Filtering masked values\n",
    "                masked_df = patient_df[patient_df[\"ph_nan\"].isna()]\n",
    "\n",
    "                maes.append(\n",
    "                    {\n",
    "                        \"window\": window,\n",
    "                        \"iter\": i,\n",
    "                        \"n\": patient_df.shape[0],\n",
    "                        \"p_missing\": p_missing,\n",
    "                        \"mae gp\": mean_absolute_error(\n",
    "                            masked_df[\"ph\"], masked_df[\"ph_gp\"]\n",
    "                        ),\n",
    "                        \"mae dgp\": mean_absolute_error(\n",
    "                            masked_df[\"ph\"], masked_df[\"ph_dgp\"]\n",
    "                        ),\n",
    "                        # \"mae mice\": mean_absolute_error(\n",
    "                        #     masked_df[\"ph\"], masked_df[\"ph_mice\"]\n",
    "                        # ),\n",
    "                        \"mae ffill\": mean_absolute_error(\n",
    "                            masked_df[\"ph\"], masked_df[\"ph_ffill\"]\n",
    "                        ),\n",
    "                    }\n",
    "                )\n",
    "            except:\n",
    "                print(f\"Failed in {p_missing:.1f}_{window}_{i}\")"
   ]
  },
  {
   "cell_type": "code",
   "execution_count": 24,
   "metadata": {},
   "outputs": [],
   "source": [
    "pd.DataFrame(maes).to_parquet('results/20241107/ph-dgp.parquet')"
   ]
  }
 ],
 "metadata": {
  "kernelspec": {
   "display_name": "phd",
   "language": "python",
   "name": "python3"
  },
  "language_info": {
   "codemirror_mode": {
    "name": "ipython",
    "version": 3
   },
   "file_extension": ".py",
   "mimetype": "text/x-python",
   "name": "python",
   "nbconvert_exporter": "python",
   "pygments_lexer": "ipython3",
   "version": "3.9.0"
  }
 },
 "nbformat": 4,
 "nbformat_minor": 2
}
